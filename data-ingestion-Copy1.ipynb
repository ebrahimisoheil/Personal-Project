{
 "cells": [
  {
   "cell_type": "code",
   "execution_count": 18,
   "id": "49c578b0",
   "metadata": {},
   "outputs": [],
   "source": [
    "import requests\n",
    "import json\n",
    "import pandas as pd\n",
    "import itertools\n",
    "import math\n",
    "import sqlite3"
   ]
  },
  {
   "cell_type": "code",
   "execution_count": 19,
   "id": "c7722e03",
   "metadata": {},
   "outputs": [],
   "source": [
    "url = 'https://dummyapi.io/data/v1/'\n",
    "header = {'app-id': '628d03c25f1069a96e4846cd'}\n",
    "limit = 50"
   ]
  },
  {
   "cell_type": "code",
   "execution_count": 20,
   "id": "a7df59bc",
   "metadata": {},
   "outputs": [],
   "source": [
    "# Fetching full data of posts and users\n",
    "def get_posts_users(filename):\n",
    "\n",
    "    id_list = []\n",
    "\n",
    "    response_id = requests.get(url+filename, params={'page': 0 , 'limit': limit } , headers=header)\n",
    "\n",
    "    data = response_id.text\n",
    "\n",
    "    parse_json_0 = json.loads(data)\n",
    "\n",
    "    pages = int(math.ceil( parse_json_0['total'] / parse_json_0['limit'] ))\n",
    "\n",
    "    for i in range(pages):\n",
    "\n",
    "        response_id = requests.get(url+filename, params={'page': i, 'limit': limit } , headers=header)\n",
    "\n",
    "        data = response_id.text\n",
    "\n",
    "        parse_json = json.loads(data)\n",
    "\n",
    "        id_list.append( [d['id'] for d in parse_json['data'] ])\n",
    "\n",
    "        merged_id_list = list(itertools.chain(*id_list))\n",
    "    \n",
    "    full_data=[]\n",
    "\n",
    "    for j in merged_id_list:\n",
    "        \n",
    "        full_data_request = requests.get(url+filename+'/'+j , headers=header)\n",
    "        \n",
    "        full_text = full_data_request.text\n",
    "        \n",
    "        parse_json_full = json.loads(full_text)\n",
    "        \n",
    "        full_data.append(parse_json_full)\n",
    "        \n",
    "    parse_json_full_df = pd.DataFrame(full_data)\n",
    "    \n",
    "    return parse_json_full_df\n",
    "        "
   ]
  },
  {
   "cell_type": "code",
   "execution_count": null,
   "id": "8d7ec815",
   "metadata": {},
   "outputs": [],
   "source": [
    "posts = get_posts_users('post')\n",
    "users = get_posts_users('user')"
   ]
  },
  {
   "cell_type": "code",
   "execution_count": null,
   "id": "400ac9d7",
   "metadata": {},
   "outputs": [],
   "source": [
    "#Fetching Preview data of comments\n",
    "def get_comments(filename):    \n",
    "    id_list = []\n",
    "\n",
    "    response_id = requests.get(url+filename, params={'page': 0 , 'limit' : limit} , headers=header)\n",
    "\n",
    "    data = response_id.text\n",
    "\n",
    "    parse_json_0 = json.loads(data)\n",
    "\n",
    "    pages = int(math.ceil( parse_json_0['total'] / parse_json_0['limit'] ))\n",
    "\n",
    "    for i in range(pages):\n",
    "\n",
    "        response_id = requests.get(url+filename, params={'page': i , 'limit' : limit} , headers=header)\n",
    "\n",
    "        data = response_id.text\n",
    "\n",
    "        parse_json = json.loads(data)\n",
    "\n",
    "        id_list.append( parse_json['data'] )\n",
    "\n",
    "        merged_id_list = list(itertools.chain(*id_list))\n",
    "\n",
    "    return pd.DataFrame(merged_id_list)"
   ]
  },
  {
   "cell_type": "code",
   "execution_count": null,
   "id": "d02cf69f",
   "metadata": {},
   "outputs": [],
   "source": [
    "comments_df = get_comments('comment')"
   ]
  },
  {
   "cell_type": "code",
   "execution_count": null,
   "id": "fab7d9dd",
   "metadata": {},
   "outputs": [],
   "source": [
    "# Setting owner_id as a separate column in posts and comments dataframe\n",
    "def get_owner_id(dataframe):\n",
    "    dataframe['owner_id'] = dataframe.owner.apply(lambda x: x['id'])\n",
    "    dataframe.drop(\"owner\", axis=1, inplace=True)\n",
    "    return dataframe"
   ]
  },
  {
   "cell_type": "code",
   "execution_count": null,
   "id": "809742ec",
   "metadata": {},
   "outputs": [],
   "source": [
    "cleansed_posts = get_owner_id(posts)"
   ]
  },
  {
   "cell_type": "code",
   "execution_count": null,
   "id": "5e1889da",
   "metadata": {},
   "outputs": [],
   "source": [
    "cleansed_comments = get_owner_id(comments_df)"
   ]
  },
  {
   "cell_type": "code",
   "execution_count": null,
   "id": "de3aa00d",
   "metadata": {},
   "outputs": [],
   "source": [
    "cleansed_users = pd.concat([users.drop(['location'], axis=1), users['location'].apply(pd.Series)], axis=1)"
   ]
  },
  {
   "cell_type": "code",
   "execution_count": null,
   "id": "c87d8b4b",
   "metadata": {},
   "outputs": [],
   "source": [
    "#Convert string columns to datetime in order to be ready for database insertion\n",
    "def convert_str_to_date(dataframe):\n",
    "    for date_column in list(dataframe.columns):\n",
    "        if ('date' in date_column.lower()) == True:\n",
    "            dataframe[date_column] = pd.to_datetime(dataframe[date_column])"
   ]
  },
  {
   "cell_type": "code",
   "execution_count": null,
   "id": "22f3d180",
   "metadata": {},
   "outputs": [],
   "source": [
    "convert_str_to_date(cleansed_users)\n",
    "convert_str_to_date(cleansed_comments)\n",
    "convert_str_to_date(cleansed_posts)"
   ]
  },
  {
   "cell_type": "code",
   "execution_count": null,
   "id": "a973f760",
   "metadata": {},
   "outputs": [],
   "source": [
    "#Data Validation Checks\n",
    "len(cleansed_users['id'].unique()) == len(cleansed_users['id'])"
   ]
  },
  {
   "cell_type": "code",
   "execution_count": null,
   "id": "2ac5b359",
   "metadata": {},
   "outputs": [],
   "source": [
    "len(cleansed_users.drop('id',axis=1).drop_duplicates()) == len(cleansed_users)"
   ]
  },
  {
   "cell_type": "code",
   "execution_count": null,
   "id": "d30e0915",
   "metadata": {},
   "outputs": [],
   "source": [
    "list(cleansed_users['title'].unique())"
   ]
  },
  {
   "cell_type": "code",
   "execution_count": null,
   "id": "307b0be5",
   "metadata": {},
   "outputs": [],
   "source": [
    "list(cleansed_users['gender'].unique())"
   ]
  },
  {
   "cell_type": "code",
   "execution_count": null,
   "id": "2b914e0f",
   "metadata": {},
   "outputs": [],
   "source": [
    "len(cleansed_users[cleansed_users['registerDate'] < cleansed_users['updatedDate']])"
   ]
  },
  {
   "cell_type": "code",
   "execution_count": null,
   "id": "3c3a451e",
   "metadata": {},
   "outputs": [],
   "source": [
    "def id_uniqueness(dataframe, id_column):\n",
    "     if (len(dataframe[id_column].unique()) == len(dataframe[id_column])) == True:\n",
    "            print('id column is unique')\n",
    "     else: print('not unique') \n",
    "    \n",
    "def data_uniqueness(dataframe, id_column):\n",
    "     if (len(dataframe.drop(id_column,axis=1).drop_duplicates()) == len(dataframe)) == True:\n",
    "            print('dataset is unique')\n",
    "     else: print('not unique') \n",
    "    \n",
    "def check_not_null_columns(dataframe, column_names):\n",
    "    validation_list = []\n",
    "    column_names = [column_names]\n",
    "    for column in column_names:\n",
    "        validation_list.append(pd.Series([dataframe[column].isnull().any()]).unique()[0])\n",
    "    if len(pd.Series(validation_list).unique()) == 1:\n",
    "        print('no null values')\n",
    "    else:\n",
    "        print('the column includes null values')\n",
    "\n",
    "def positive_values(dataframe, column_names):\n",
    "    validation_list = []\n",
    "    column_names = [column_names]\n",
    "    for column in column_names:\n",
    "        validation_list.append((dataframe[column] < 0).any())\n",
    "    if len(pd.Series(validation_list).unique()) == 1:\n",
    "        print('no negative values')\n",
    "    else:\n",
    "        print('negative values included')"
   ]
  },
  {
   "cell_type": "code",
   "execution_count": null,
   "id": "b9b3f161",
   "metadata": {},
   "outputs": [],
   "source": [
    "#Creating Staging Layer of the data pipeline\n",
    "import sqlite3\n",
    "\n",
    "conn = sqlite3.connect('dummy_stg') \n",
    "c = conn.cursor()"
   ]
  },
  {
   "cell_type": "code",
   "execution_count": null,
   "id": "c1f0d03c",
   "metadata": {},
   "outputs": [],
   "source": [
    "print(pd.io.sql.get_schema(cleansed_users,name='stg_users',con=conn))"
   ]
  },
  {
   "cell_type": "code",
   "execution_count": null,
   "id": "308875f9",
   "metadata": {},
   "outputs": [],
   "source": [
    "c.execute('''\n",
    "          CREATE TABLE \"stg_users\" (\n",
    "                  \"id\" TEXT,\n",
    "                  \"title\" TEXT,\n",
    "                  \"firstName\" TEXT,\n",
    "                  \"lastName\" TEXT,\n",
    "                  \"picture\" TEXT,\n",
    "                  \"gender\" TEXT,\n",
    "                  \"email\" TEXT,\n",
    "                  \"dateOfBirth\" TIMESTAMP,\n",
    "                  \"phone\" TEXT,\n",
    "                  \"registerDate\" TIMESTAMP,\n",
    "                  \"updatedDate\" TIMESTAMP,\n",
    "                  \"street\" TEXT,\n",
    "                  \"city\" TEXT,\n",
    "                  \"state\" TEXT,\n",
    "                  \"country\" TEXT,\n",
    "                  \"timezone\" TEXT\n",
    "                )\n",
    "          ''')"
   ]
  },
  {
   "cell_type": "code",
   "execution_count": null,
   "id": "85e6d7e6",
   "metadata": {},
   "outputs": [],
   "source": [
    "cleansed_users.to_sql(name='stg_users', con=conn, if_exists='append', index=False)"
   ]
  },
  {
   "cell_type": "code",
   "execution_count": null,
   "id": "19dc3cc4",
   "metadata": {},
   "outputs": [],
   "source": [
    "print(pd.io.sql.get_schema(cleansed_posts,name='stg_posts',con=conn))"
   ]
  },
  {
   "cell_type": "code",
   "execution_count": null,
   "id": "e33e684e",
   "metadata": {},
   "outputs": [],
   "source": [
    "c.execute('''\n",
    "          CREATE TABLE \"stg_posts\" (\n",
    "              \"id\" TEXT,\n",
    "              \"image\" TEXT,\n",
    "              \"likes\" INTEGER,\n",
    "              \"link\" TEXT,\n",
    "              \"tags\" TEXT,\n",
    "              \"text\" TEXT,\n",
    "              \"publishDate\" TIMESTAMP,\n",
    "              \"owner_id\" TEXT\n",
    "            )\n",
    "          ''')"
   ]
  },
  {
   "cell_type": "code",
   "execution_count": null,
   "id": "e5a2a84d",
   "metadata": {},
   "outputs": [],
   "source": [
    "cleansed_posts.dtypes\n",
    "cleansed_posts['id'] = cleansed_posts['id'].astype('str')\n",
    "cleansed_posts['image'] = cleansed_posts['image'].astype('str')\n",
    "cleansed_posts['link'] = cleansed_posts['link'].astype('str')\n",
    "cleansed_posts['tags'] = cleansed_posts['tags'].astype('str')\n",
    "cleansed_posts['text'] = cleansed_posts['text'].astype('str')\n",
    "cleansed_posts['owner_id'] = cleansed_posts['owner_id'].astype('str')"
   ]
  },
  {
   "cell_type": "code",
   "execution_count": null,
   "id": "12dc6220",
   "metadata": {},
   "outputs": [],
   "source": [
    "cleansed_posts.to_sql(name='stg_posts', con=conn, index=False, if_exists='append')"
   ]
  },
  {
   "cell_type": "code",
   "execution_count": null,
   "id": "e33e98a7",
   "metadata": {},
   "outputs": [],
   "source": [
    "print(pd.io.sql.get_schema(cleansed_comments,name='stg_comments',con=conn))"
   ]
  },
  {
   "cell_type": "code",
   "execution_count": null,
   "id": "f26d86be",
   "metadata": {},
   "outputs": [],
   "source": [
    "c.execute('''\n",
    "          CREATE TABLE \"stg_comments\" (\n",
    "              \"id\" TEXT,\n",
    "              \"message\" TEXT,\n",
    "              \"post\" TEXT,\n",
    "              \"publishDate\" TIMESTAMP,\n",
    "              \"owner_id\" TEXT\n",
    ")\n",
    "          ''')"
   ]
  },
  {
   "cell_type": "code",
   "execution_count": null,
   "id": "d9834ebb",
   "metadata": {},
   "outputs": [],
   "source": [
    "cleansed_comments.to_sql(name='stg_comments', con=conn, index=False, if_exists='append')"
   ]
  },
  {
   "cell_type": "code",
   "execution_count": null,
   "id": "ec48329d",
   "metadata": {},
   "outputs": [],
   "source": []
  },
  {
   "cell_type": "code",
   "execution_count": null,
   "id": "3b24934a",
   "metadata": {},
   "outputs": [],
   "source": []
  },
  {
   "cell_type": "code",
   "execution_count": null,
   "id": "c81409ca",
   "metadata": {},
   "outputs": [],
   "source": []
  },
  {
   "cell_type": "code",
   "execution_count": null,
   "id": "0895a158",
   "metadata": {},
   "outputs": [],
   "source": []
  },
  {
   "cell_type": "code",
   "execution_count": null,
   "id": "ac188c27",
   "metadata": {},
   "outputs": [],
   "source": []
  }
 ],
 "metadata": {
  "kernelspec": {
   "display_name": "Python 3 (ipykernel)",
   "language": "python",
   "name": "python3"
  },
  "language_info": {
   "codemirror_mode": {
    "name": "ipython",
    "version": 3
   },
   "file_extension": ".py",
   "mimetype": "text/x-python",
   "name": "python",
   "nbconvert_exporter": "python",
   "pygments_lexer": "ipython3",
   "version": "3.9.7"
  }
 },
 "nbformat": 4,
 "nbformat_minor": 5
}
